{
 "cells": [
  {
   "cell_type": "code",
   "execution_count": 1,
   "id": "c864d613",
   "metadata": {},
   "outputs": [
    {
     "data": {
      "text/html": [
       "<p>To authorize access needed by Earth Engine, open the following\n",
       "        URL in a web browser and follow the instructions:</p>\n",
       "        <p><a href=https://code.earthengine.google.com/client-auth?scopes=https%3A//www.googleapis.com/auth/earthengine%20https%3A//www.googleapis.com/auth/devstorage.full_control&request_id=d0i6tooZ6TxCWoR1n5OnXkK8yQIWUqrjpyR-DAbEDG4&tc=d5Labo3XPuTIFBb0aSVUnX0EDzBpc0uXJZPjw-Bsz74&cc=C93H6MY2lmnH_kcT0pEjJEf56064K8dFyMA8azjFusg>https://code.earthengine.google.com/client-auth?scopes=https%3A//www.googleapis.com/auth/earthengine%20https%3A//www.googleapis.com/auth/devstorage.full_control&request_id=d0i6tooZ6TxCWoR1n5OnXkK8yQIWUqrjpyR-DAbEDG4&tc=d5Labo3XPuTIFBb0aSVUnX0EDzBpc0uXJZPjw-Bsz74&cc=C93H6MY2lmnH_kcT0pEjJEf56064K8dFyMA8azjFusg</a></p>\n",
       "        <p>The authorization workflow will generate a code, which you should paste in the box below.</p>\n",
       "        "
      ],
      "text/plain": [
       "<IPython.core.display.HTML object>"
      ]
     },
     "metadata": {},
     "output_type": "display_data"
    },
    {
     "name": "stdout",
     "output_type": "stream",
     "text": [
      "Enter verification code: 4/1AVHEtk7zBMyBmrK9wWyRWBbqh0Rk6fYzBTF683JMenn8M4hbv5keoZIowc4\n",
      "\n",
      "Successfully saved authorization token.\n"
     ]
    }
   ],
   "source": [
    "import ee\n",
    "ee.Authenticate()\n",
    "ee.Initialize()\n",
    "\n",
    "\n"
   ]
  },
  {
   "cell_type": "code",
   "execution_count": 18,
   "id": "60063c18",
   "metadata": {},
   "outputs": [
    {
     "name": "stdout",
     "output_type": "stream",
     "text": [
      "{'type': 'TABLE', 'name': 'projects/ee-saraihananya/assets/ProAg_2023_test_2023-04-17/MOT6_2k_balanced', 'id': 'projects/ee-saraihananya/assets/ProAg_2023_test_2023-04-17/MOT6_2k_balanced', 'updateTime': '2023-04-17T20:23:27.268910Z'}\n",
      "{'type': 'TABLE', 'name': 'projects/ee-saraihananya/assets/ProAg_2023_test_2023-04-17/MOT6_2k_balanced', 'id': 'projects/ee-saraihananya/assets/ProAg_2023_test_2023-04-17/MOT6_2k_balanced', 'updateTime': '2023-04-17T20:23:27.268910Z'}\n"
     ]
    }
   ],
   "source": [
    "\n",
    "src_folder = \"projects/earthengine-legacy/assets/users/username/new_folder\"\n",
    "# folder where to copy\n",
    "dest_folder = \"projects/earthengine-legacy/assets/users/username/new_folder\"\n",
    "\n",
    "# get all assets in the folder\n",
    "assets = ee.data.listAssets({'parent': src_folder})\n",
    "\n",
    "# loop through assets and copy them one by one to the new destination\n",
    "for asset in assets['assets']:\n",
    "    # construct destination path\n",
    "    new_asset = dest_folder + '/' + asset['id'].split('/')[-1]\n",
    "    # copy to destination\n",
    "    ee.data.copyAsset(asset['id'], new_asset, True)\n",
    "    # delete source asset\n",
    "    #ee.data.deleteAsset(asset['id'])\n",
    "\n",
    "print(\"finish\")"
   ]
  },
  {
   "cell_type": "code",
   "execution_count": null,
   "id": "ca81d4f8",
   "metadata": {},
   "outputs": [],
   "source": []
  }
 ],
 "metadata": {
  "kernelspec": {
   "display_name": "Python 3 (ipykernel)",
   "language": "python",
   "name": "python3"
  },
  "language_info": {
   "codemirror_mode": {
    "name": "ipython",
    "version": 3
   },
   "file_extension": ".py",
   "mimetype": "text/x-python",
   "name": "python",
   "nbconvert_exporter": "python",
   "pygments_lexer": "ipython3",
   "version": "3.9.13"
  }
 },
 "nbformat": 4,
 "nbformat_minor": 5
}
